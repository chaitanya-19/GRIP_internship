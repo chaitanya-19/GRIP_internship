{
 "cells": [
  {
   "cell_type": "markdown",
   "metadata": {},
   "source": [
    "In this peice of code we will be implementing Tf-Idf from scratch and also using sklearns module\n",
    "Term Frequency-Inverse Document Frequency has two parts :\n",
    "1]calculating of TF\n",
    "2]Calculating IDF"
   ]
  },
  {
   "cell_type": "code",
   "execution_count": 1,
   "metadata": {},
   "outputs": [],
   "source": [
    "a=\"i am a dog and he is a boy\"\n",
    "b=\"i am a cat and he is not a girl\"\n",
    "c=\"what are you doing with your cat boy i\""
   ]
  },
  {
   "cell_type": "code",
   "execution_count": 2,
   "metadata": {},
   "outputs": [],
   "source": [
    "doca=a\n",
    "docb=b\n",
    "docc=c"
   ]
  },
  {
   "cell_type": "markdown",
   "metadata": {},
   "source": [
    "**TOKENIZATION**"
   ]
  },
  {
   "cell_type": "code",
   "execution_count": 3,
   "metadata": {},
   "outputs": [],
   "source": [
    "a=a.split(\" \")\n",
    "b=b.split(\" \")\n",
    "c=c.split(\" \")"
   ]
  },
  {
   "cell_type": "code",
   "execution_count": 4,
   "metadata": {},
   "outputs": [
    {
     "data": {
      "text/plain": [
       "['i', 'am', 'a', 'dog', 'and', 'he', 'is', 'a', 'boy']"
      ]
     },
     "execution_count": 4,
     "metadata": {},
     "output_type": "execute_result"
    }
   ],
   "source": [
    "a"
   ]
  },
  {
   "cell_type": "code",
   "execution_count": 5,
   "metadata": {},
   "outputs": [
    {
     "data": {
      "text/plain": [
       "['i', 'am', 'a', 'cat', 'and', 'he', 'is', 'not', 'a', 'girl']"
      ]
     },
     "execution_count": 5,
     "metadata": {},
     "output_type": "execute_result"
    }
   ],
   "source": [
    "b"
   ]
  },
  {
   "cell_type": "code",
   "execution_count": 6,
   "metadata": {},
   "outputs": [
    {
     "data": {
      "text/plain": [
       "['what', 'are', 'you', 'doing', 'with', 'your', 'cat', 'boy', 'i']"
      ]
     },
     "execution_count": 6,
     "metadata": {},
     "output_type": "execute_result"
    }
   ],
   "source": [
    "c"
   ]
  },
  {
   "cell_type": "code",
   "execution_count": 7,
   "metadata": {},
   "outputs": [],
   "source": [
    "wordset=set(a).union(set(b)).union(set(c))\n"
   ]
  },
  {
   "cell_type": "code",
   "execution_count": 8,
   "metadata": {},
   "outputs": [
    {
     "data": {
      "text/plain": [
       "{'a',\n",
       " 'am',\n",
       " 'and',\n",
       " 'are',\n",
       " 'boy',\n",
       " 'cat',\n",
       " 'dog',\n",
       " 'doing',\n",
       " 'girl',\n",
       " 'he',\n",
       " 'i',\n",
       " 'is',\n",
       " 'not',\n",
       " 'what',\n",
       " 'with',\n",
       " 'you',\n",
       " 'your'}"
      ]
     },
     "execution_count": 8,
     "metadata": {},
     "output_type": "execute_result"
    }
   ],
   "source": [
    "wordset"
   ]
  },
  {
   "cell_type": "code",
   "execution_count": 9,
   "metadata": {},
   "outputs": [],
   "source": [
    "#another way of implemention of the above code is\n",
    "list=[]\n",
    "vocab=set()\n",
    "list.append(a)\n",
    "list.append(b)\n",
    "list.append(c)\n",
    "for i in range(len(list)):\n",
    "    for w in list[i]:\n",
    "        vocab.add(w)\n",
    "    "
   ]
  },
  {
   "cell_type": "code",
   "execution_count": 10,
   "metadata": {},
   "outputs": [
    {
     "data": {
      "text/plain": [
       "{'a',\n",
       " 'am',\n",
       " 'and',\n",
       " 'are',\n",
       " 'boy',\n",
       " 'cat',\n",
       " 'dog',\n",
       " 'doing',\n",
       " 'girl',\n",
       " 'he',\n",
       " 'i',\n",
       " 'is',\n",
       " 'not',\n",
       " 'what',\n",
       " 'with',\n",
       " 'you',\n",
       " 'your'}"
      ]
     },
     "execution_count": 10,
     "metadata": {},
     "output_type": "execute_result"
    }
   ],
   "source": [
    "vocab"
   ]
  },
  {
   "cell_type": "code",
   "execution_count": 11,
   "metadata": {},
   "outputs": [],
   "source": [
    "#creating dictioneries to keep the counts of words in each doc\n",
    "#initilising a empty list with all words in voacb as keys and fill ini their count as value\n",
    "dicta=dict.fromkeys(vocab,0)\n",
    "dictb=dict.fromkeys(vocab,0)\n",
    "dictc=dict.fromkeys(vocab,0)"
   ]
  },
  {
   "cell_type": "code",
   "execution_count": 12,
   "metadata": {},
   "outputs": [
    {
     "data": {
      "text/plain": [
       "{'dog': 0,\n",
       " 'boy': 0,\n",
       " 'he': 0,\n",
       " 'what': 0,\n",
       " 'and': 0,\n",
       " 'are': 0,\n",
       " 'i': 0,\n",
       " 'not': 0,\n",
       " 'cat': 0,\n",
       " 'girl': 0,\n",
       " 'you': 0,\n",
       " 'your': 0,\n",
       " 'am': 0,\n",
       " 'is': 0,\n",
       " 'with': 0,\n",
       " 'a': 0,\n",
       " 'doing': 0}"
      ]
     },
     "execution_count": 12,
     "metadata": {},
     "output_type": "execute_result"
    }
   ],
   "source": [
    "dicta"
   ]
  },
  {
   "cell_type": "code",
   "execution_count": 40,
   "metadata": {},
   "outputs": [],
   "source": [
    "for w in a:\n",
    "    dicta[w]+=1\n",
    "for w in b:\n",
    "    dictb[w]+=1\n",
    "for w in c:\n",
    "    dictc[w]+=1\n",
    "# we can write a nested for loop instead of exceuting again and agian"
   ]
  },
  {
   "cell_type": "code",
   "execution_count": 41,
   "metadata": {},
   "outputs": [
    {
     "data": {
      "text/plain": [
       "{'dog': 2,\n",
       " 'boy': 2,\n",
       " 'he': 2,\n",
       " 'what': 0,\n",
       " 'and': 2,\n",
       " 'are': 0,\n",
       " 'i': 2,\n",
       " 'not': 0,\n",
       " 'cat': 0,\n",
       " 'girl': 0,\n",
       " 'you': 0,\n",
       " 'your': 0,\n",
       " 'am': 2,\n",
       " 'is': 2,\n",
       " 'with': 0,\n",
       " 'a': 4,\n",
       " 'doing': 0}"
      ]
     },
     "execution_count": 41,
     "metadata": {},
     "output_type": "execute_result"
    }
   ],
   "source": [
    "dicta"
   ]
  },
  {
   "cell_type": "code",
   "execution_count": 42,
   "metadata": {},
   "outputs": [
    {
     "data": {
      "text/plain": [
       "{'dog': 0,\n",
       " 'boy': 0,\n",
       " 'he': 2,\n",
       " 'what': 0,\n",
       " 'and': 2,\n",
       " 'are': 0,\n",
       " 'i': 2,\n",
       " 'not': 2,\n",
       " 'cat': 2,\n",
       " 'girl': 2,\n",
       " 'you': 0,\n",
       " 'your': 0,\n",
       " 'am': 2,\n",
       " 'is': 2,\n",
       " 'with': 0,\n",
       " 'a': 4,\n",
       " 'doing': 0}"
      ]
     },
     "execution_count": 42,
     "metadata": {},
     "output_type": "execute_result"
    }
   ],
   "source": [
    "dictb"
   ]
  },
  {
   "cell_type": "code",
   "execution_count": 43,
   "metadata": {},
   "outputs": [
    {
     "data": {
      "text/plain": [
       "{'dog': 0,\n",
       " 'boy': 2,\n",
       " 'he': 0,\n",
       " 'what': 2,\n",
       " 'and': 0,\n",
       " 'are': 2,\n",
       " 'i': 2,\n",
       " 'not': 0,\n",
       " 'cat': 2,\n",
       " 'girl': 0,\n",
       " 'you': 2,\n",
       " 'your': 2,\n",
       " 'am': 0,\n",
       " 'is': 0,\n",
       " 'with': 2,\n",
       " 'a': 0,\n",
       " 'doing': 2}"
      ]
     },
     "execution_count": 43,
     "metadata": {},
     "output_type": "execute_result"
    }
   ],
   "source": [
    "dictc"
   ]
  },
  {
   "cell_type": "code",
   "execution_count": 44,
   "metadata": {},
   "outputs": [
    {
     "data": {
      "text/plain": [
       "[dict_values([2, 2, 2, 0, 2, 0, 2, 0, 0, 0, 0, 0, 2, 2, 0, 4, 0]),\n",
       " dict_values([0, 0, 2, 0, 2, 0, 2, 2, 2, 2, 0, 0, 2, 2, 0, 4, 0]),\n",
       " dict_values([0, 2, 0, 2, 0, 2, 2, 0, 2, 0, 2, 2, 0, 0, 2, 0, 2])]"
      ]
     },
     "execution_count": 44,
     "metadata": {},
     "output_type": "execute_result"
    }
   ],
   "source": [
    "list=[dicta.values(),dictb.values(),dictc.values()]\n",
    "list"
   ]
  },
  {
   "cell_type": "code",
   "execution_count": 45,
   "metadata": {},
   "outputs": [
    {
     "data": {
      "text/plain": [
       "dict_values([2, 2, 2, 0, 2, 0, 2, 0, 0, 0, 0, 0, 2, 2, 0, 4, 0])"
      ]
     },
     "execution_count": 45,
     "metadata": {},
     "output_type": "execute_result"
    }
   ],
   "source": [
    "list[0]"
   ]
  },
  {
   "cell_type": "code",
   "execution_count": 46,
   "metadata": {},
   "outputs": [
    {
     "data": {
      "text/html": [
       "<div>\n",
       "<style scoped>\n",
       "    .dataframe tbody tr th:only-of-type {\n",
       "        vertical-align: middle;\n",
       "    }\n",
       "\n",
       "    .dataframe tbody tr th {\n",
       "        vertical-align: top;\n",
       "    }\n",
       "\n",
       "    .dataframe thead th {\n",
       "        text-align: right;\n",
       "    }\n",
       "</style>\n",
       "<table border=\"1\" class=\"dataframe\">\n",
       "  <thead>\n",
       "    <tr style=\"text-align: right;\">\n",
       "      <th></th>\n",
       "      <th>dog</th>\n",
       "      <th>boy</th>\n",
       "      <th>he</th>\n",
       "      <th>what</th>\n",
       "      <th>and</th>\n",
       "      <th>are</th>\n",
       "      <th>i</th>\n",
       "      <th>not</th>\n",
       "      <th>cat</th>\n",
       "      <th>girl</th>\n",
       "      <th>you</th>\n",
       "      <th>your</th>\n",
       "      <th>am</th>\n",
       "      <th>is</th>\n",
       "      <th>with</th>\n",
       "      <th>a</th>\n",
       "      <th>doing</th>\n",
       "    </tr>\n",
       "  </thead>\n",
       "  <tbody>\n",
       "    <tr>\n",
       "      <th>0</th>\n",
       "      <td>2</td>\n",
       "      <td>2</td>\n",
       "      <td>2</td>\n",
       "      <td>0</td>\n",
       "      <td>2</td>\n",
       "      <td>0</td>\n",
       "      <td>2</td>\n",
       "      <td>0</td>\n",
       "      <td>0</td>\n",
       "      <td>0</td>\n",
       "      <td>0</td>\n",
       "      <td>0</td>\n",
       "      <td>2</td>\n",
       "      <td>2</td>\n",
       "      <td>0</td>\n",
       "      <td>4</td>\n",
       "      <td>0</td>\n",
       "    </tr>\n",
       "    <tr>\n",
       "      <th>1</th>\n",
       "      <td>0</td>\n",
       "      <td>0</td>\n",
       "      <td>2</td>\n",
       "      <td>0</td>\n",
       "      <td>2</td>\n",
       "      <td>0</td>\n",
       "      <td>2</td>\n",
       "      <td>2</td>\n",
       "      <td>2</td>\n",
       "      <td>2</td>\n",
       "      <td>0</td>\n",
       "      <td>0</td>\n",
       "      <td>2</td>\n",
       "      <td>2</td>\n",
       "      <td>0</td>\n",
       "      <td>4</td>\n",
       "      <td>0</td>\n",
       "    </tr>\n",
       "    <tr>\n",
       "      <th>2</th>\n",
       "      <td>0</td>\n",
       "      <td>2</td>\n",
       "      <td>0</td>\n",
       "      <td>2</td>\n",
       "      <td>0</td>\n",
       "      <td>2</td>\n",
       "      <td>2</td>\n",
       "      <td>0</td>\n",
       "      <td>2</td>\n",
       "      <td>0</td>\n",
       "      <td>2</td>\n",
       "      <td>2</td>\n",
       "      <td>0</td>\n",
       "      <td>0</td>\n",
       "      <td>2</td>\n",
       "      <td>0</td>\n",
       "      <td>2</td>\n",
       "    </tr>\n",
       "  </tbody>\n",
       "</table>\n",
       "</div>"
      ],
      "text/plain": [
       "   dog  boy  he  what  and  are  i  not  cat  girl  you  your  am  is  with  \\\n",
       "0    2    2   2     0    2    0  2    0    0     0    0     0   2   2     0   \n",
       "1    0    0   2     0    2    0  2    2    2     2    0     0   2   2     0   \n",
       "2    0    2   0     2    0    2  2    0    2     0    2     2   0   0     2   \n",
       "\n",
       "   a  doing  \n",
       "0  4      0  \n",
       "1  4      0  \n",
       "2  0      2  "
      ]
     },
     "execution_count": 46,
     "metadata": {},
     "output_type": "execute_result"
    }
   ],
   "source": [
    "import pandas as pd\n",
    "pd.DataFrame(list,columns=vocab)"
   ]
  },
  {
   "cell_type": "markdown",
   "metadata": {},
   "source": [
    "**Term frequency** is defined as total number times that word apperas divided by total number of words in that document"
   ]
  },
  {
   "cell_type": "code",
   "execution_count": 48,
   "metadata": {},
   "outputs": [],
   "source": [
    "def computeTF(vocab,bow):\n",
    "    word,count=vocab.keys(),vocab.values()\n",
    "    word\n",
    "    tfdict={}\n",
    "    bowcount=len(bow)\n",
    "    for w in word:\n",
    "        c=vocab[w]\n",
    "        tfdict[w]=c/float(bowcount)\n",
    "       \n",
    "    return tfdict\n",
    "    "
   ]
  },
  {
   "cell_type": "code",
   "execution_count": 49,
   "metadata": {
    "scrolled": true
   },
   "outputs": [
    {
     "data": {
      "text/plain": [
       "{'dog': 0.2222222222222222,\n",
       " 'boy': 0.2222222222222222,\n",
       " 'he': 0.2222222222222222,\n",
       " 'what': 0.0,\n",
       " 'and': 0.2222222222222222,\n",
       " 'are': 0.0,\n",
       " 'i': 0.2222222222222222,\n",
       " 'not': 0.0,\n",
       " 'cat': 0.0,\n",
       " 'girl': 0.0,\n",
       " 'you': 0.0,\n",
       " 'your': 0.0,\n",
       " 'am': 0.2222222222222222,\n",
       " 'is': 0.2222222222222222,\n",
       " 'with': 0.0,\n",
       " 'a': 0.4444444444444444,\n",
       " 'doing': 0.0}"
      ]
     },
     "execution_count": 49,
     "metadata": {},
     "output_type": "execute_result"
    }
   ],
   "source": [
    "tfa=computeTF(dicta,a)\n",
    "tfa"
   ]
  },
  {
   "cell_type": "code",
   "execution_count": 50,
   "metadata": {},
   "outputs": [
    {
     "data": {
      "text/plain": [
       "{'dog': 0.0,\n",
       " 'boy': 0.0,\n",
       " 'he': 0.2,\n",
       " 'what': 0.0,\n",
       " 'and': 0.2,\n",
       " 'are': 0.0,\n",
       " 'i': 0.2,\n",
       " 'not': 0.2,\n",
       " 'cat': 0.2,\n",
       " 'girl': 0.2,\n",
       " 'you': 0.0,\n",
       " 'your': 0.0,\n",
       " 'am': 0.2,\n",
       " 'is': 0.2,\n",
       " 'with': 0.0,\n",
       " 'a': 0.4,\n",
       " 'doing': 0.0}"
      ]
     },
     "execution_count": 50,
     "metadata": {},
     "output_type": "execute_result"
    }
   ],
   "source": [
    "tfb=computeTF(dictb,b)\n",
    "tfb"
   ]
  },
  {
   "cell_type": "code",
   "execution_count": 51,
   "metadata": {},
   "outputs": [
    {
     "data": {
      "text/plain": [
       "{'dog': 0.0,\n",
       " 'boy': 0.2222222222222222,\n",
       " 'he': 0.0,\n",
       " 'what': 0.2222222222222222,\n",
       " 'and': 0.0,\n",
       " 'are': 0.2222222222222222,\n",
       " 'i': 0.2222222222222222,\n",
       " 'not': 0.0,\n",
       " 'cat': 0.2222222222222222,\n",
       " 'girl': 0.0,\n",
       " 'you': 0.2222222222222222,\n",
       " 'your': 0.2222222222222222,\n",
       " 'am': 0.0,\n",
       " 'is': 0.0,\n",
       " 'with': 0.2222222222222222,\n",
       " 'a': 0.0,\n",
       " 'doing': 0.2222222222222222}"
      ]
     },
     "execution_count": 51,
     "metadata": {},
     "output_type": "execute_result"
    }
   ],
   "source": [
    "tfc=computeTF(dictc,c)\n",
    "tfc"
   ]
  },
  {
   "cell_type": "markdown",
   "metadata": {},
   "source": [
    "**Inverse document Frequency** is log of  total number of documents divided by total number of document with that word"
   ]
  },
  {
   "cell_type": "code",
   "execution_count": 53,
   "metadata": {},
   "outputs": [],
   "source": [
    "import math\n",
    "def idf(docs):\n",
    "    idf_dict={}\n",
    "    n=len(docs)\n",
    "    for doc in docs:\n",
    "        #word,count=doc.keys(),doc.values()\n",
    "        #word\n",
    "        for w ,val in doc.items():\n",
    "            if val>0:\n",
    "                try:\n",
    "                    idf_dict[w] += 1\n",
    "                except:\n",
    "                    idf_dict[w]=1\n",
    "    for w,val in idf_dict.items():\n",
    "        idf_dict[w]=math.log(n/float(val))\n",
    "    return idf_dict"
   ]
  },
  {
   "cell_type": "code",
   "execution_count": 54,
   "metadata": {
    "scrolled": true
   },
   "outputs": [],
   "source": [
    "idf_dict=idf([dicta,dictb,dictc])\n"
   ]
  },
  {
   "cell_type": "code",
   "execution_count": 55,
   "metadata": {},
   "outputs": [
    {
     "data": {
      "text/plain": [
       "{'dog': 1.0986122886681098,\n",
       " 'boy': 0.4054651081081644,\n",
       " 'he': 0.4054651081081644,\n",
       " 'and': 0.4054651081081644,\n",
       " 'i': 0.0,\n",
       " 'am': 0.4054651081081644,\n",
       " 'is': 0.4054651081081644,\n",
       " 'a': 0.4054651081081644,\n",
       " 'not': 1.0986122886681098,\n",
       " 'cat': 0.4054651081081644,\n",
       " 'girl': 1.0986122886681098,\n",
       " 'what': 1.0986122886681098,\n",
       " 'are': 1.0986122886681098,\n",
       " 'you': 1.0986122886681098,\n",
       " 'your': 1.0986122886681098,\n",
       " 'with': 1.0986122886681098,\n",
       " 'doing': 1.0986122886681098}"
      ]
     },
     "execution_count": 55,
     "metadata": {},
     "output_type": "execute_result"
    }
   ],
   "source": [
    "idf_dict"
   ]
  },
  {
   "cell_type": "code",
   "execution_count": 56,
   "metadata": {},
   "outputs": [],
   "source": [
    "def compute_tfidf(tf_dict,idf):\n",
    "    tfidf={    }\n",
    "    for word ,val in tf_dict.items():\n",
    "        tfidf[word]=val*idf[word]\n",
    "    return tfidf"
   ]
  },
  {
   "cell_type": "code",
   "execution_count": 57,
   "metadata": {},
   "outputs": [
    {
     "data": {
      "text/plain": [
       "{'dog': 0.24413606414846883,\n",
       " 'boy': 0.09010335735736986,\n",
       " 'he': 0.09010335735736986,\n",
       " 'what': 0.0,\n",
       " 'and': 0.09010335735736986,\n",
       " 'are': 0.0,\n",
       " 'i': 0.0,\n",
       " 'not': 0.0,\n",
       " 'cat': 0.0,\n",
       " 'girl': 0.0,\n",
       " 'you': 0.0,\n",
       " 'your': 0.0,\n",
       " 'am': 0.09010335735736986,\n",
       " 'is': 0.09010335735736986,\n",
       " 'with': 0.0,\n",
       " 'a': 0.18020671471473973,\n",
       " 'doing': 0.0}"
      ]
     },
     "execution_count": 57,
     "metadata": {},
     "output_type": "execute_result"
    }
   ],
   "source": [
    "tfidfa=compute_tfidf(tfa,idf_dict)\n",
    "tfidfa"
   ]
  },
  {
   "cell_type": "code",
   "execution_count": 58,
   "metadata": {},
   "outputs": [
    {
     "data": {
      "text/plain": [
       "{'dog': 0.0,\n",
       " 'boy': 0.0,\n",
       " 'he': 0.08109302162163289,\n",
       " 'what': 0.0,\n",
       " 'and': 0.08109302162163289,\n",
       " 'are': 0.0,\n",
       " 'i': 0.0,\n",
       " 'not': 0.21972245773362198,\n",
       " 'cat': 0.08109302162163289,\n",
       " 'girl': 0.21972245773362198,\n",
       " 'you': 0.0,\n",
       " 'your': 0.0,\n",
       " 'am': 0.08109302162163289,\n",
       " 'is': 0.08109302162163289,\n",
       " 'with': 0.0,\n",
       " 'a': 0.16218604324326577,\n",
       " 'doing': 0.0}"
      ]
     },
     "execution_count": 58,
     "metadata": {},
     "output_type": "execute_result"
    }
   ],
   "source": [
    "tfidfb=compute_tfidf(tfb,idf_dict)\n",
    "tfidfb"
   ]
  },
  {
   "cell_type": "code",
   "execution_count": 59,
   "metadata": {},
   "outputs": [
    {
     "data": {
      "text/plain": [
       "{'dog': 0.0,\n",
       " 'boy': 0.09010335735736986,\n",
       " 'he': 0.0,\n",
       " 'what': 0.24413606414846883,\n",
       " 'and': 0.0,\n",
       " 'are': 0.24413606414846883,\n",
       " 'i': 0.0,\n",
       " 'not': 0.0,\n",
       " 'cat': 0.09010335735736986,\n",
       " 'girl': 0.0,\n",
       " 'you': 0.24413606414846883,\n",
       " 'your': 0.24413606414846883,\n",
       " 'am': 0.0,\n",
       " 'is': 0.0,\n",
       " 'with': 0.24413606414846883,\n",
       " 'a': 0.0,\n",
       " 'doing': 0.24413606414846883}"
      ]
     },
     "execution_count": 59,
     "metadata": {},
     "output_type": "execute_result"
    }
   ],
   "source": [
    "tfidfc=compute_tfidf(tfc,idf_dict)\n",
    "tfidfc"
   ]
  },
  {
   "cell_type": "code",
   "execution_count": 60,
   "metadata": {},
   "outputs": [
    {
     "data": {
      "text/html": [
       "<div>\n",
       "<style scoped>\n",
       "    .dataframe tbody tr th:only-of-type {\n",
       "        vertical-align: middle;\n",
       "    }\n",
       "\n",
       "    .dataframe tbody tr th {\n",
       "        vertical-align: top;\n",
       "    }\n",
       "\n",
       "    .dataframe thead th {\n",
       "        text-align: right;\n",
       "    }\n",
       "</style>\n",
       "<table border=\"1\" class=\"dataframe\">\n",
       "  <thead>\n",
       "    <tr style=\"text-align: right;\">\n",
       "      <th></th>\n",
       "      <th>dog</th>\n",
       "      <th>boy</th>\n",
       "      <th>he</th>\n",
       "      <th>what</th>\n",
       "      <th>and</th>\n",
       "      <th>are</th>\n",
       "      <th>i</th>\n",
       "      <th>not</th>\n",
       "      <th>cat</th>\n",
       "      <th>girl</th>\n",
       "      <th>you</th>\n",
       "      <th>your</th>\n",
       "      <th>am</th>\n",
       "      <th>is</th>\n",
       "      <th>with</th>\n",
       "      <th>a</th>\n",
       "      <th>doing</th>\n",
       "    </tr>\n",
       "  </thead>\n",
       "  <tbody>\n",
       "    <tr>\n",
       "      <th>0</th>\n",
       "      <td>0.244136</td>\n",
       "      <td>0.090103</td>\n",
       "      <td>0.090103</td>\n",
       "      <td>0.000000</td>\n",
       "      <td>0.090103</td>\n",
       "      <td>0.000000</td>\n",
       "      <td>0.0</td>\n",
       "      <td>0.000000</td>\n",
       "      <td>0.000000</td>\n",
       "      <td>0.000000</td>\n",
       "      <td>0.000000</td>\n",
       "      <td>0.000000</td>\n",
       "      <td>0.090103</td>\n",
       "      <td>0.090103</td>\n",
       "      <td>0.000000</td>\n",
       "      <td>0.180207</td>\n",
       "      <td>0.000000</td>\n",
       "    </tr>\n",
       "    <tr>\n",
       "      <th>1</th>\n",
       "      <td>0.000000</td>\n",
       "      <td>0.000000</td>\n",
       "      <td>0.081093</td>\n",
       "      <td>0.000000</td>\n",
       "      <td>0.081093</td>\n",
       "      <td>0.000000</td>\n",
       "      <td>0.0</td>\n",
       "      <td>0.219722</td>\n",
       "      <td>0.081093</td>\n",
       "      <td>0.219722</td>\n",
       "      <td>0.000000</td>\n",
       "      <td>0.000000</td>\n",
       "      <td>0.081093</td>\n",
       "      <td>0.081093</td>\n",
       "      <td>0.000000</td>\n",
       "      <td>0.162186</td>\n",
       "      <td>0.000000</td>\n",
       "    </tr>\n",
       "    <tr>\n",
       "      <th>2</th>\n",
       "      <td>0.000000</td>\n",
       "      <td>0.090103</td>\n",
       "      <td>0.000000</td>\n",
       "      <td>0.244136</td>\n",
       "      <td>0.000000</td>\n",
       "      <td>0.244136</td>\n",
       "      <td>0.0</td>\n",
       "      <td>0.000000</td>\n",
       "      <td>0.090103</td>\n",
       "      <td>0.000000</td>\n",
       "      <td>0.244136</td>\n",
       "      <td>0.244136</td>\n",
       "      <td>0.000000</td>\n",
       "      <td>0.000000</td>\n",
       "      <td>0.244136</td>\n",
       "      <td>0.000000</td>\n",
       "      <td>0.244136</td>\n",
       "    </tr>\n",
       "  </tbody>\n",
       "</table>\n",
       "</div>"
      ],
      "text/plain": [
       "        dog       boy        he      what       and       are    i       not  \\\n",
       "0  0.244136  0.090103  0.090103  0.000000  0.090103  0.000000  0.0  0.000000   \n",
       "1  0.000000  0.000000  0.081093  0.000000  0.081093  0.000000  0.0  0.219722   \n",
       "2  0.000000  0.090103  0.000000  0.244136  0.000000  0.244136  0.0  0.000000   \n",
       "\n",
       "        cat      girl       you      your        am        is      with  \\\n",
       "0  0.000000  0.000000  0.000000  0.000000  0.090103  0.090103  0.000000   \n",
       "1  0.081093  0.219722  0.000000  0.000000  0.081093  0.081093  0.000000   \n",
       "2  0.090103  0.000000  0.244136  0.244136  0.000000  0.000000  0.244136   \n",
       "\n",
       "          a     doing  \n",
       "0  0.180207  0.000000  \n",
       "1  0.162186  0.000000  \n",
       "2  0.000000  0.244136  "
      ]
     },
     "execution_count": 60,
     "metadata": {},
     "output_type": "execute_result"
    }
   ],
   "source": [
    "df1=pd.DataFrame([tfidfa,tfidfb,tfidfc])\n",
    "df1"
   ]
  },
  {
   "cell_type": "markdown",
   "metadata": {},
   "source": [
    "**Implementation using sklearn**"
   ]
  },
  {
   "cell_type": "code",
   "execution_count": 61,
   "metadata": {},
   "outputs": [],
   "source": [
    "from sklearn.feature_extraction.text import TfidfVectorizer"
   ]
  },
  {
   "cell_type": "code",
   "execution_count": 62,
   "metadata": {},
   "outputs": [],
   "source": [
    "vect=TfidfVectorizer(lowercase=False)\n"
   ]
  },
  {
   "cell_type": "code",
   "execution_count": 63,
   "metadata": {},
   "outputs": [],
   "source": [
    "x=vect.fit_transform([doca,docb,docc])"
   ]
  },
  {
   "cell_type": "code",
   "execution_count": 64,
   "metadata": {},
   "outputs": [
    {
     "data": {
      "text/plain": [
       "['am',\n",
       " 'and',\n",
       " 'are',\n",
       " 'boy',\n",
       " 'cat',\n",
       " 'dog',\n",
       " 'doing',\n",
       " 'girl',\n",
       " 'he',\n",
       " 'is',\n",
       " 'not',\n",
       " 'what',\n",
       " 'with',\n",
       " 'you',\n",
       " 'your']"
      ]
     },
     "execution_count": 64,
     "metadata": {},
     "output_type": "execute_result"
    }
   ],
   "source": [
    "feature_names=vect.get_feature_names()\n",
    "feature_names"
   ]
  },
  {
   "cell_type": "code",
   "execution_count": 65,
   "metadata": {},
   "outputs": [
    {
     "data": {
      "text/plain": [
       "matrix([[0.38550292, 0.38550292, 0.        , 0.38550292, 0.        ,\n",
       "         0.50689001, 0.        , 0.        , 0.38550292, 0.38550292,\n",
       "         0.        , 0.        , 0.        , 0.        , 0.        ],\n",
       "        [0.34385143, 0.34385143, 0.        , 0.        , 0.34385143,\n",
       "         0.        , 0.        , 0.45212331, 0.34385143, 0.34385143,\n",
       "         0.45212331, 0.        , 0.        , 0.        , 0.        ],\n",
       "        [0.        , 0.        , 0.37380112, 0.28428538, 0.28428538,\n",
       "         0.        , 0.37380112, 0.        , 0.        , 0.        ,\n",
       "         0.        , 0.37380112, 0.37380112, 0.37380112, 0.37380112]])"
      ]
     },
     "execution_count": 65,
     "metadata": {},
     "output_type": "execute_result"
    }
   ],
   "source": [
    "dense=x.todense()\n",
    "dense"
   ]
  },
  {
   "cell_type": "code",
   "execution_count": 66,
   "metadata": {},
   "outputs": [
    {
     "data": {
      "text/plain": [
       "[[0.38550292161010064,\n",
       "  0.38550292161010064,\n",
       "  0.0,\n",
       "  0.38550292161010064,\n",
       "  0.0,\n",
       "  0.5068900148458076,\n",
       "  0.0,\n",
       "  0.0,\n",
       "  0.38550292161010064,\n",
       "  0.38550292161010064,\n",
       "  0.0,\n",
       "  0.0,\n",
       "  0.0,\n",
       "  0.0,\n",
       "  0.0],\n",
       " [0.3438514296174855,\n",
       "  0.3438514296174855,\n",
       "  0.0,\n",
       "  0.0,\n",
       "  0.3438514296174855,\n",
       "  0.0,\n",
       "  0.0,\n",
       "  0.45212330826338587,\n",
       "  0.3438514296174855,\n",
       "  0.3438514296174855,\n",
       "  0.45212330826338587,\n",
       "  0.0,\n",
       "  0.0,\n",
       "  0.0,\n",
       "  0.0],\n",
       " [0.0,\n",
       "  0.0,\n",
       "  0.37380111513895253,\n",
       "  0.2842853829563292,\n",
       "  0.2842853829563292,\n",
       "  0.0,\n",
       "  0.37380111513895253,\n",
       "  0.0,\n",
       "  0.0,\n",
       "  0.0,\n",
       "  0.0,\n",
       "  0.37380111513895253,\n",
       "  0.37380111513895253,\n",
       "  0.37380111513895253,\n",
       "  0.37380111513895253]]"
      ]
     },
     "execution_count": 66,
     "metadata": {},
     "output_type": "execute_result"
    }
   ],
   "source": [
    "denselist=dense.tolist()\n",
    "denselist\n"
   ]
  },
  {
   "cell_type": "code",
   "execution_count": 67,
   "metadata": {},
   "outputs": [
    {
     "data": {
      "text/html": [
       "<div>\n",
       "<style scoped>\n",
       "    .dataframe tbody tr th:only-of-type {\n",
       "        vertical-align: middle;\n",
       "    }\n",
       "\n",
       "    .dataframe tbody tr th {\n",
       "        vertical-align: top;\n",
       "    }\n",
       "\n",
       "    .dataframe thead th {\n",
       "        text-align: right;\n",
       "    }\n",
       "</style>\n",
       "<table border=\"1\" class=\"dataframe\">\n",
       "  <thead>\n",
       "    <tr style=\"text-align: right;\">\n",
       "      <th></th>\n",
       "      <th>am</th>\n",
       "      <th>and</th>\n",
       "      <th>are</th>\n",
       "      <th>boy</th>\n",
       "      <th>cat</th>\n",
       "      <th>dog</th>\n",
       "      <th>doing</th>\n",
       "      <th>girl</th>\n",
       "      <th>he</th>\n",
       "      <th>is</th>\n",
       "      <th>not</th>\n",
       "      <th>what</th>\n",
       "      <th>with</th>\n",
       "      <th>you</th>\n",
       "      <th>your</th>\n",
       "    </tr>\n",
       "  </thead>\n",
       "  <tbody>\n",
       "    <tr>\n",
       "      <th>0</th>\n",
       "      <td>0.385503</td>\n",
       "      <td>0.385503</td>\n",
       "      <td>0.000000</td>\n",
       "      <td>0.385503</td>\n",
       "      <td>0.000000</td>\n",
       "      <td>0.50689</td>\n",
       "      <td>0.000000</td>\n",
       "      <td>0.000000</td>\n",
       "      <td>0.385503</td>\n",
       "      <td>0.385503</td>\n",
       "      <td>0.000000</td>\n",
       "      <td>0.000000</td>\n",
       "      <td>0.000000</td>\n",
       "      <td>0.000000</td>\n",
       "      <td>0.000000</td>\n",
       "    </tr>\n",
       "    <tr>\n",
       "      <th>1</th>\n",
       "      <td>0.343851</td>\n",
       "      <td>0.343851</td>\n",
       "      <td>0.000000</td>\n",
       "      <td>0.000000</td>\n",
       "      <td>0.343851</td>\n",
       "      <td>0.00000</td>\n",
       "      <td>0.000000</td>\n",
       "      <td>0.452123</td>\n",
       "      <td>0.343851</td>\n",
       "      <td>0.343851</td>\n",
       "      <td>0.452123</td>\n",
       "      <td>0.000000</td>\n",
       "      <td>0.000000</td>\n",
       "      <td>0.000000</td>\n",
       "      <td>0.000000</td>\n",
       "    </tr>\n",
       "    <tr>\n",
       "      <th>2</th>\n",
       "      <td>0.000000</td>\n",
       "      <td>0.000000</td>\n",
       "      <td>0.373801</td>\n",
       "      <td>0.284285</td>\n",
       "      <td>0.284285</td>\n",
       "      <td>0.00000</td>\n",
       "      <td>0.373801</td>\n",
       "      <td>0.000000</td>\n",
       "      <td>0.000000</td>\n",
       "      <td>0.000000</td>\n",
       "      <td>0.000000</td>\n",
       "      <td>0.373801</td>\n",
       "      <td>0.373801</td>\n",
       "      <td>0.373801</td>\n",
       "      <td>0.373801</td>\n",
       "    </tr>\n",
       "  </tbody>\n",
       "</table>\n",
       "</div>"
      ],
      "text/plain": [
       "         am       and       are       boy       cat      dog     doing  \\\n",
       "0  0.385503  0.385503  0.000000  0.385503  0.000000  0.50689  0.000000   \n",
       "1  0.343851  0.343851  0.000000  0.000000  0.343851  0.00000  0.000000   \n",
       "2  0.000000  0.000000  0.373801  0.284285  0.284285  0.00000  0.373801   \n",
       "\n",
       "       girl        he        is       not      what      with       you  \\\n",
       "0  0.000000  0.385503  0.385503  0.000000  0.000000  0.000000  0.000000   \n",
       "1  0.452123  0.343851  0.343851  0.452123  0.000000  0.000000  0.000000   \n",
       "2  0.000000  0.000000  0.000000  0.000000  0.373801  0.373801  0.373801   \n",
       "\n",
       "       your  \n",
       "0  0.000000  \n",
       "1  0.000000  \n",
       "2  0.373801  "
      ]
     },
     "execution_count": 67,
     "metadata": {},
     "output_type": "execute_result"
    }
   ],
   "source": [
    "df2=pd.DataFrame(denselist,columns=feature_names)\n",
    "df2"
   ]
  },
  {
   "cell_type": "code",
   "execution_count": 68,
   "metadata": {},
   "outputs": [
    {
     "data": {
      "text/html": [
       "<div>\n",
       "<style scoped>\n",
       "    .dataframe tbody tr th:only-of-type {\n",
       "        vertical-align: middle;\n",
       "    }\n",
       "\n",
       "    .dataframe tbody tr th {\n",
       "        vertical-align: top;\n",
       "    }\n",
       "\n",
       "    .dataframe thead th {\n",
       "        text-align: right;\n",
       "    }\n",
       "</style>\n",
       "<table border=\"1\" class=\"dataframe\">\n",
       "  <thead>\n",
       "    <tr style=\"text-align: right;\">\n",
       "      <th></th>\n",
       "      <th>dog</th>\n",
       "      <th>boy</th>\n",
       "      <th>he</th>\n",
       "      <th>what</th>\n",
       "      <th>and</th>\n",
       "      <th>are</th>\n",
       "      <th>i</th>\n",
       "      <th>not</th>\n",
       "      <th>cat</th>\n",
       "      <th>girl</th>\n",
       "      <th>you</th>\n",
       "      <th>your</th>\n",
       "      <th>am</th>\n",
       "      <th>is</th>\n",
       "      <th>with</th>\n",
       "      <th>a</th>\n",
       "      <th>doing</th>\n",
       "    </tr>\n",
       "  </thead>\n",
       "  <tbody>\n",
       "    <tr>\n",
       "      <th>0</th>\n",
       "      <td>0.244136</td>\n",
       "      <td>0.090103</td>\n",
       "      <td>0.090103</td>\n",
       "      <td>0.000000</td>\n",
       "      <td>0.090103</td>\n",
       "      <td>0.000000</td>\n",
       "      <td>0.0</td>\n",
       "      <td>0.000000</td>\n",
       "      <td>0.000000</td>\n",
       "      <td>0.000000</td>\n",
       "      <td>0.000000</td>\n",
       "      <td>0.000000</td>\n",
       "      <td>0.090103</td>\n",
       "      <td>0.090103</td>\n",
       "      <td>0.000000</td>\n",
       "      <td>0.180207</td>\n",
       "      <td>0.000000</td>\n",
       "    </tr>\n",
       "    <tr>\n",
       "      <th>1</th>\n",
       "      <td>0.000000</td>\n",
       "      <td>0.000000</td>\n",
       "      <td>0.081093</td>\n",
       "      <td>0.000000</td>\n",
       "      <td>0.081093</td>\n",
       "      <td>0.000000</td>\n",
       "      <td>0.0</td>\n",
       "      <td>0.219722</td>\n",
       "      <td>0.081093</td>\n",
       "      <td>0.219722</td>\n",
       "      <td>0.000000</td>\n",
       "      <td>0.000000</td>\n",
       "      <td>0.081093</td>\n",
       "      <td>0.081093</td>\n",
       "      <td>0.000000</td>\n",
       "      <td>0.162186</td>\n",
       "      <td>0.000000</td>\n",
       "    </tr>\n",
       "    <tr>\n",
       "      <th>2</th>\n",
       "      <td>0.000000</td>\n",
       "      <td>0.090103</td>\n",
       "      <td>0.000000</td>\n",
       "      <td>0.244136</td>\n",
       "      <td>0.000000</td>\n",
       "      <td>0.244136</td>\n",
       "      <td>0.0</td>\n",
       "      <td>0.000000</td>\n",
       "      <td>0.090103</td>\n",
       "      <td>0.000000</td>\n",
       "      <td>0.244136</td>\n",
       "      <td>0.244136</td>\n",
       "      <td>0.000000</td>\n",
       "      <td>0.000000</td>\n",
       "      <td>0.244136</td>\n",
       "      <td>0.000000</td>\n",
       "      <td>0.244136</td>\n",
       "    </tr>\n",
       "  </tbody>\n",
       "</table>\n",
       "</div>"
      ],
      "text/plain": [
       "        dog       boy        he      what       and       are    i       not  \\\n",
       "0  0.244136  0.090103  0.090103  0.000000  0.090103  0.000000  0.0  0.000000   \n",
       "1  0.000000  0.000000  0.081093  0.000000  0.081093  0.000000  0.0  0.219722   \n",
       "2  0.000000  0.090103  0.000000  0.244136  0.000000  0.244136  0.0  0.000000   \n",
       "\n",
       "        cat      girl       you      your        am        is      with  \\\n",
       "0  0.000000  0.000000  0.000000  0.000000  0.090103  0.090103  0.000000   \n",
       "1  0.081093  0.219722  0.000000  0.000000  0.081093  0.081093  0.000000   \n",
       "2  0.090103  0.000000  0.244136  0.244136  0.000000  0.000000  0.244136   \n",
       "\n",
       "          a     doing  \n",
       "0  0.180207  0.000000  \n",
       "1  0.162186  0.000000  \n",
       "2  0.000000  0.244136  "
      ]
     },
     "execution_count": 68,
     "metadata": {},
     "output_type": "execute_result"
    }
   ],
   "source": [
    "df1"
   ]
  },
  {
   "cell_type": "markdown",
   "metadata": {},
   "source": [
    "THE ANSWERS are not matching as sklearn does smoothing and because our document size is very small there is a huge difference if corpora was large the difference would have been small"
   ]
  },
  {
   "cell_type": "code",
   "execution_count": null,
   "metadata": {},
   "outputs": [],
   "source": []
  }
 ],
 "metadata": {
  "kernelspec": {
   "display_name": "Python 3",
   "language": "python",
   "name": "python3"
  },
  "language_info": {
   "codemirror_mode": {
    "name": "ipython",
    "version": 3
   },
   "file_extension": ".py",
   "mimetype": "text/x-python",
   "name": "python",
   "nbconvert_exporter": "python",
   "pygments_lexer": "ipython3",
   "version": "3.8.3"
  }
 },
 "nbformat": 4,
 "nbformat_minor": 4
}
