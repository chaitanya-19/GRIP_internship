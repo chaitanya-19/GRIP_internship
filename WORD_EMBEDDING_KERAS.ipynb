{
 "cells": [
  {
   "cell_type": "code",
   "execution_count": 1,
   "metadata": {},
   "outputs": [
    {
     "name": "stderr",
     "output_type": "stream",
     "text": [
      "C:\\Users\\chait\\Anaconda3\\lib\\site-packages\\tensorflow\\python\\framework\\dtypes.py:516: FutureWarning: Passing (type, 1) or '1type' as a synonym of type is deprecated; in a future version of numpy, it will be understood as (type, (1,)) / '(1,)type'.\n",
      "  _np_qint8 = np.dtype([(\"qint8\", np.int8, 1)])\n",
      "C:\\Users\\chait\\Anaconda3\\lib\\site-packages\\tensorflow\\python\\framework\\dtypes.py:517: FutureWarning: Passing (type, 1) or '1type' as a synonym of type is deprecated; in a future version of numpy, it will be understood as (type, (1,)) / '(1,)type'.\n",
      "  _np_quint8 = np.dtype([(\"quint8\", np.uint8, 1)])\n",
      "C:\\Users\\chait\\Anaconda3\\lib\\site-packages\\tensorflow\\python\\framework\\dtypes.py:518: FutureWarning: Passing (type, 1) or '1type' as a synonym of type is deprecated; in a future version of numpy, it will be understood as (type, (1,)) / '(1,)type'.\n",
      "  _np_qint16 = np.dtype([(\"qint16\", np.int16, 1)])\n",
      "C:\\Users\\chait\\Anaconda3\\lib\\site-packages\\tensorflow\\python\\framework\\dtypes.py:519: FutureWarning: Passing (type, 1) or '1type' as a synonym of type is deprecated; in a future version of numpy, it will be understood as (type, (1,)) / '(1,)type'.\n",
      "  _np_quint16 = np.dtype([(\"quint16\", np.uint16, 1)])\n",
      "C:\\Users\\chait\\Anaconda3\\lib\\site-packages\\tensorflow\\python\\framework\\dtypes.py:520: FutureWarning: Passing (type, 1) or '1type' as a synonym of type is deprecated; in a future version of numpy, it will be understood as (type, (1,)) / '(1,)type'.\n",
      "  _np_qint32 = np.dtype([(\"qint32\", np.int32, 1)])\n",
      "C:\\Users\\chait\\Anaconda3\\lib\\site-packages\\tensorflow\\python\\framework\\dtypes.py:525: FutureWarning: Passing (type, 1) or '1type' as a synonym of type is deprecated; in a future version of numpy, it will be understood as (type, (1,)) / '(1,)type'.\n",
      "  np_resource = np.dtype([(\"resource\", np.ubyte, 1)])\n",
      "C:\\Users\\chait\\Anaconda3\\lib\\site-packages\\tensorboard\\compat\\tensorflow_stub\\dtypes.py:541: FutureWarning: Passing (type, 1) or '1type' as a synonym of type is deprecated; in a future version of numpy, it will be understood as (type, (1,)) / '(1,)type'.\n",
      "  _np_qint8 = np.dtype([(\"qint8\", np.int8, 1)])\n",
      "C:\\Users\\chait\\Anaconda3\\lib\\site-packages\\tensorboard\\compat\\tensorflow_stub\\dtypes.py:542: FutureWarning: Passing (type, 1) or '1type' as a synonym of type is deprecated; in a future version of numpy, it will be understood as (type, (1,)) / '(1,)type'.\n",
      "  _np_quint8 = np.dtype([(\"quint8\", np.uint8, 1)])\n",
      "C:\\Users\\chait\\Anaconda3\\lib\\site-packages\\tensorboard\\compat\\tensorflow_stub\\dtypes.py:543: FutureWarning: Passing (type, 1) or '1type' as a synonym of type is deprecated; in a future version of numpy, it will be understood as (type, (1,)) / '(1,)type'.\n",
      "  _np_qint16 = np.dtype([(\"qint16\", np.int16, 1)])\n",
      "C:\\Users\\chait\\Anaconda3\\lib\\site-packages\\tensorboard\\compat\\tensorflow_stub\\dtypes.py:544: FutureWarning: Passing (type, 1) or '1type' as a synonym of type is deprecated; in a future version of numpy, it will be understood as (type, (1,)) / '(1,)type'.\n",
      "  _np_quint16 = np.dtype([(\"quint16\", np.uint16, 1)])\n",
      "C:\\Users\\chait\\Anaconda3\\lib\\site-packages\\tensorboard\\compat\\tensorflow_stub\\dtypes.py:545: FutureWarning: Passing (type, 1) or '1type' as a synonym of type is deprecated; in a future version of numpy, it will be understood as (type, (1,)) / '(1,)type'.\n",
      "  _np_qint32 = np.dtype([(\"qint32\", np.int32, 1)])\n",
      "C:\\Users\\chait\\Anaconda3\\lib\\site-packages\\tensorboard\\compat\\tensorflow_stub\\dtypes.py:550: FutureWarning: Passing (type, 1) or '1type' as a synonym of type is deprecated; in a future version of numpy, it will be understood as (type, (1,)) / '(1,)type'.\n",
      "  np_resource = np.dtype([(\"resource\", np.ubyte, 1)])\n"
     ]
    }
   ],
   "source": [
    "##tensorflow >2.0\n",
    "from tensorflow.keras.preprocessing.text import one_hot"
   ]
  },
  {
   "cell_type": "code",
   "execution_count": 2,
   "metadata": {},
   "outputs": [],
   "source": [
    "### sentences\n",
    "sent=[  'the glass of milk',\n",
    "     'the glass of juice',\n",
    "     'the cup of tea',\n",
    "    'I am a good boy',\n",
    "     'I am a good developer',\n",
    "     'understand the meaning of words',\n",
    "     'your videos are good',]"
   ]
  },
  {
   "cell_type": "code",
   "execution_count": 3,
   "metadata": {},
   "outputs": [
    {
     "data": {
      "text/plain": [
       "['the glass of milk',\n",
       " 'the glass of juice',\n",
       " 'the cup of tea',\n",
       " 'I am a good boy',\n",
       " 'I am a good developer',\n",
       " 'understand the meaning of words',\n",
       " 'your videos are good']"
      ]
     },
     "execution_count": 3,
     "metadata": {},
     "output_type": "execute_result"
    }
   ],
   "source": [
    "sent"
   ]
  },
  {
   "cell_type": "code",
   "execution_count": 4,
   "metadata": {},
   "outputs": [],
   "source": [
    "### Vocabulary size\n",
    "voc_size=10000"
   ]
  },
  {
   "cell_type": "code",
   "execution_count": 5,
   "metadata": {},
   "outputs": [
    {
     "name": "stdout",
     "output_type": "stream",
     "text": [
      "[[8156, 8668, 5658, 5530], [8156, 8668, 5658, 3674], [8156, 8095, 5658, 1430], [2203, 323, 5772, 4949, 3637], [2203, 323, 5772, 4949, 2670], [7214, 8156, 8109, 5658, 9174], [4948, 2451, 8208, 4949]]\n"
     ]
    }
   ],
   "source": [
    "onehot_repr=[one_hot(words,voc_size)for words in sent] \n",
    "print(onehot_repr)"
   ]
  },
  {
   "cell_type": "markdown",
   "metadata": {},
   "source": [
    "\n",
    "### Word Embedding Represntation"
   ]
  },
  {
   "cell_type": "code",
   "execution_count": 6,
   "metadata": {},
   "outputs": [],
   "source": [
    "from tensorflow.keras.layers import Embedding\n",
    "from tensorflow.keras.preprocessing.sequence import pad_sequences\n",
    "from tensorflow.keras.models import Sequential"
   ]
  },
  {
   "cell_type": "code",
   "execution_count": 7,
   "metadata": {},
   "outputs": [],
   "source": [
    "import numpy as np"
   ]
  },
  {
   "cell_type": "code",
   "execution_count": 9,
   "metadata": {},
   "outputs": [
    {
     "name": "stdout",
     "output_type": "stream",
     "text": [
      "[[   0 8156 8668 5658 5530]\n",
      " [   0 8156 8668 5658 3674]\n",
      " [   0 8156 8095 5658 1430]\n",
      " [2203  323 5772 4949 3637]\n",
      " [2203  323 5772 4949 2670]\n",
      " [7214 8156 8109 5658 9174]\n",
      " [   0 4948 2451 8208 4949]]\n"
     ]
    }
   ],
   "source": [
    "sent_length=5\n",
    "embedded_docs=pad_sequences(onehot_repr,padding='pre',maxlen=sent_length)\n",
    "print(embedded_docs)"
   ]
  },
  {
   "cell_type": "code",
   "execution_count": 10,
   "metadata": {},
   "outputs": [],
   "source": [
    "dim=100"
   ]
  },
  {
   "cell_type": "code",
   "execution_count": 11,
   "metadata": {},
   "outputs": [
    {
     "name": "stdout",
     "output_type": "stream",
     "text": [
      "WARNING:tensorflow:From C:\\Users\\chait\\Anaconda3\\lib\\site-packages\\tensorflow\\python\\keras\\initializers.py:119: calling RandomUniform.__init__ (from tensorflow.python.ops.init_ops) with dtype is deprecated and will be removed in a future version.\n",
      "Instructions for updating:\n",
      "Call initializer instance with the dtype argument instead of passing it to the constructor\n"
     ]
    }
   ],
   "source": [
    "\n",
    "model=Sequential()\n",
    "model.add(Embedding(voc_size,10,input_length=sent_length))\n",
    "model.compile('adam','mse')"
   ]
  },
  {
   "cell_type": "code",
   "execution_count": 12,
   "metadata": {},
   "outputs": [
    {
     "name": "stdout",
     "output_type": "stream",
     "text": [
      "Model: \"sequential\"\n",
      "_________________________________________________________________\n",
      "Layer (type)                 Output Shape              Param #   \n",
      "=================================================================\n",
      "embedding (Embedding)        (None, 5, 10)             100000    \n",
      "=================================================================\n",
      "Total params: 100,000\n",
      "Trainable params: 100,000\n",
      "Non-trainable params: 0\n",
      "_________________________________________________________________\n"
     ]
    }
   ],
   "source": [
    "model.summary()"
   ]
  },
  {
   "cell_type": "code",
   "execution_count": 13,
   "metadata": {},
   "outputs": [
    {
     "name": "stdout",
     "output_type": "stream",
     "text": [
      "[[[-0.02179047  0.00451597  0.02547019 -0.02874999 -0.00440979\n",
      "   -0.00799952  0.02258307 -0.03023667  0.04605336  0.02770117]\n",
      "  [ 0.02737219  0.04902586  0.00012345  0.02728805 -0.03047475\n",
      "    0.03679718  0.03635273  0.04694027  0.01020405 -0.03539884]\n",
      "  [ 0.03033706  0.03766257  0.00697362 -0.00459355  0.04015059\n",
      "    0.02912371  0.04056997 -0.01127787 -0.04491385 -0.01244863]\n",
      "  [-0.0281494   0.01682511 -0.02206615  0.00680687 -0.0144984\n",
      "    0.00723274 -0.03236369 -0.04074169 -0.00062448  0.01143988]\n",
      "  [-0.04486392  0.0036182   0.00361699 -0.0294296  -0.03529109\n",
      "    0.01741249  0.00307839  0.0328852   0.02246037  0.0214335 ]]\n",
      "\n",
      " [[-0.02179047  0.00451597  0.02547019 -0.02874999 -0.00440979\n",
      "   -0.00799952  0.02258307 -0.03023667  0.04605336  0.02770117]\n",
      "  [ 0.02737219  0.04902586  0.00012345  0.02728805 -0.03047475\n",
      "    0.03679718  0.03635273  0.04694027  0.01020405 -0.03539884]\n",
      "  [ 0.03033706  0.03766257  0.00697362 -0.00459355  0.04015059\n",
      "    0.02912371  0.04056997 -0.01127787 -0.04491385 -0.01244863]\n",
      "  [-0.0281494   0.01682511 -0.02206615  0.00680687 -0.0144984\n",
      "    0.00723274 -0.03236369 -0.04074169 -0.00062448  0.01143988]\n",
      "  [-0.01424165  0.02787339 -0.00671174  0.02391491 -0.04465611\n",
      "   -0.03943036  0.03367365  0.00985194 -0.04917156  0.00195982]]\n",
      "\n",
      " [[-0.02179047  0.00451597  0.02547019 -0.02874999 -0.00440979\n",
      "   -0.00799952  0.02258307 -0.03023667  0.04605336  0.02770117]\n",
      "  [ 0.02737219  0.04902586  0.00012345  0.02728805 -0.03047475\n",
      "    0.03679718  0.03635273  0.04694027  0.01020405 -0.03539884]\n",
      "  [ 0.01328624  0.00996578  0.03862336  0.00794456  0.00026152\n",
      "    0.04853605  0.03442952 -0.00848017  0.00378807 -0.00753186]\n",
      "  [-0.0281494   0.01682511 -0.02206615  0.00680687 -0.0144984\n",
      "    0.00723274 -0.03236369 -0.04074169 -0.00062448  0.01143988]\n",
      "  [ 0.01004201 -0.02589878 -0.00476496 -0.04593192 -0.04679504\n",
      "    0.03288854  0.03783803 -0.04262574 -0.04878424 -0.02657413]]\n",
      "\n",
      " [[ 0.01007186  0.0422851  -0.03274149 -0.01206169  0.01680845\n",
      "    0.02383543  0.00792006 -0.02739712 -0.03777654  0.01318756]\n",
      "  [ 0.01706076  0.00764067  0.01364544 -0.00074782 -0.00857969\n",
      "   -0.04105287  0.03086729  0.00753032 -0.01031185 -0.00237836]\n",
      "  [-0.03577608 -0.01358385  0.02260724 -0.04586296  0.01776459\n",
      "   -0.01456188 -0.02920182  0.01021217  0.0397107  -0.01029705]\n",
      "  [-0.03587516  0.00966381  0.02150272 -0.00722946  0.02232097\n",
      "    0.01294055  0.01055341 -0.01332228 -0.02116832  0.02217667]\n",
      "  [-0.00074539  0.04146648 -0.04140209 -0.03652314  0.00433256\n",
      "   -0.04816243 -0.01223346 -0.03211756  0.00396464  0.01499052]]\n",
      "\n",
      " [[ 0.01007186  0.0422851  -0.03274149 -0.01206169  0.01680845\n",
      "    0.02383543  0.00792006 -0.02739712 -0.03777654  0.01318756]\n",
      "  [ 0.01706076  0.00764067  0.01364544 -0.00074782 -0.00857969\n",
      "   -0.04105287  0.03086729  0.00753032 -0.01031185 -0.00237836]\n",
      "  [-0.03577608 -0.01358385  0.02260724 -0.04586296  0.01776459\n",
      "   -0.01456188 -0.02920182  0.01021217  0.0397107  -0.01029705]\n",
      "  [-0.03587516  0.00966381  0.02150272 -0.00722946  0.02232097\n",
      "    0.01294055  0.01055341 -0.01332228 -0.02116832  0.02217667]\n",
      "  [ 0.01823011  0.01689819 -0.01435309 -0.02296028 -0.03776126\n",
      "   -0.02234213 -0.02225297 -0.00209866 -0.03340872 -0.00688775]]\n",
      "\n",
      " [[ 0.00718068 -0.04423772  0.04862935  0.0346953   0.00268383\n",
      "    0.02274306  0.02836335 -0.01906085  0.0029562   0.03162136]\n",
      "  [ 0.02737219  0.04902586  0.00012345  0.02728805 -0.03047475\n",
      "    0.03679718  0.03635273  0.04694027  0.01020405 -0.03539884]\n",
      "  [-0.01765802  0.01359879 -0.0146229  -0.03418586 -0.01446204\n",
      "    0.02995017  0.0237113  -0.02537911  0.047374   -0.02544453]\n",
      "  [-0.0281494   0.01682511 -0.02206615  0.00680687 -0.0144984\n",
      "    0.00723274 -0.03236369 -0.04074169 -0.00062448  0.01143988]\n",
      "  [-0.00922919 -0.00485845 -0.03699277  0.02402029  0.04924734\n",
      "    0.04727223  0.02769661 -0.0424073  -0.01210878  0.04880107]]\n",
      "\n",
      " [[-0.02179047  0.00451597  0.02547019 -0.02874999 -0.00440979\n",
      "   -0.00799952  0.02258307 -0.03023667  0.04605336  0.02770117]\n",
      "  [-0.04791466 -0.01771352  0.01321829  0.00173931 -0.00437262\n",
      "    0.0213822  -0.03636243 -0.04931898 -0.02904518 -0.04217731]\n",
      "  [-0.02673524 -0.04176068  0.03084986  0.01333494 -0.04358878\n",
      "    0.04638246 -0.00745289 -0.01308019 -0.00266553  0.01725307]\n",
      "  [ 0.01378915  0.0485067  -0.03712766 -0.03105268 -0.01352879\n",
      "   -0.02658149  0.03810212 -0.03844399 -0.00125183  0.01443965]\n",
      "  [-0.03587516  0.00966381  0.02150272 -0.00722946  0.02232097\n",
      "    0.01294055  0.01055341 -0.01332228 -0.02116832  0.02217667]]]\n"
     ]
    }
   ],
   "source": [
    "print(model.predict(embedded_docs))"
   ]
  },
  {
   "cell_type": "code",
   "execution_count": 14,
   "metadata": {},
   "outputs": [
    {
     "data": {
      "text/plain": [
       "array([   0, 8156, 8668, 5658, 5530])"
      ]
     },
     "execution_count": 14,
     "metadata": {},
     "output_type": "execute_result"
    }
   ],
   "source": [
    "\n",
    "embedded_docs[0]"
   ]
  },
  {
   "cell_type": "code",
   "execution_count": 15,
   "metadata": {},
   "outputs": [
    {
     "name": "stdout",
     "output_type": "stream",
     "text": [
      "[[-0.02179047  0.00451597  0.02547019 -0.02874999 -0.00440979 -0.00799952\n",
      "   0.02258307 -0.03023667  0.04605336  0.02770117]\n",
      " [ 0.02737219  0.04902586  0.00012345  0.02728805 -0.03047475  0.03679718\n",
      "   0.03635273  0.04694027  0.01020405 -0.03539884]\n",
      " [ 0.03033706  0.03766257  0.00697362 -0.00459355  0.04015059  0.02912371\n",
      "   0.04056997 -0.01127787 -0.04491385 -0.01244863]\n",
      " [-0.0281494   0.01682511 -0.02206615  0.00680687 -0.0144984   0.00723274\n",
      "  -0.03236369 -0.04074169 -0.00062448  0.01143988]\n",
      " [-0.04486392  0.0036182   0.00361699 -0.0294296  -0.03529109  0.01741249\n",
      "   0.00307839  0.0328852   0.02246037  0.0214335 ]]\n"
     ]
    }
   ],
   "source": [
    "\n",
    "print(model.predict(embedded_docs)[0])"
   ]
  },
  {
   "cell_type": "code",
   "execution_count": 16,
   "metadata": {},
   "outputs": [
    {
     "name": "stdout",
     "output_type": "stream",
     "text": [
      "Num GPUs Available:  0\n"
     ]
    }
   ],
   "source": [
    "import tensorflow as tf\n",
    "print(\"Num GPUs Available: \", len(tf.config.experimental.list_physical_devices('GPU')))"
   ]
  },
  {
   "cell_type": "code",
   "execution_count": 17,
   "metadata": {},
   "outputs": [
    {
     "data": {
      "text/plain": [
       "[]"
      ]
     },
     "execution_count": 17,
     "metadata": {},
     "output_type": "execute_result"
    }
   ],
   "source": [
    "tf.config.experimental.list_physical_devices('GPU') "
   ]
  },
  {
   "cell_type": "code",
   "execution_count": null,
   "metadata": {},
   "outputs": [],
   "source": []
  }
 ],
 "metadata": {
  "kernelspec": {
   "display_name": "Python 3",
   "language": "python",
   "name": "python3"
  },
  "language_info": {
   "codemirror_mode": {
    "name": "ipython",
    "version": 3
   },
   "file_extension": ".py",
   "mimetype": "text/x-python",
   "name": "python",
   "nbconvert_exporter": "python",
   "pygments_lexer": "ipython3",
   "version": "3.7.7"
  }
 },
 "nbformat": 4,
 "nbformat_minor": 4
}
